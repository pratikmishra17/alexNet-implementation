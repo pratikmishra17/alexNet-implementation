import torch
import torchvision.models as models
from torchvision import transforms
from PIL import Image
import glob
import numpy as np
import matplotlib.pyplot as plt 
import os 

# function to take testing image T input from user
def testing_img_input():
    while True:
        input_image_path = input("enter the path to your testing image: ")
        if os.path.exists(input_image_path):
                Image.open(input_image_path)
                break 
        else:
            print("Error: Path does not exist. Try Again")
    return input_image_path  

# fuction to take K value input from user to compute top K retrieval
def k_value_input():
    while True: 
        try:
            user_k_input = input("Enter the value of K (number of top images to retrieve): ")
            K = int(user_k_input)
            if K > 0: 
                break 
            else:
                print("K should be positive. Please try again.")
        except ValueError:
            print("Invalid input. Please enter integer value for K.")
    return K

alexnet = models.alexnet(weights=models.AlexNet_Weights.DEFAULT)
alexnet.eval()

#  data_transform variable to transform images according to alexNet model 
data_transform = transforms.Compose([
    transforms.Resize(256),
    transforms.CenterCrop(224),
    transforms.ToTensor(),
    transforms.Normalize([0.485, 0.456, 0.406], [0.229, 0.224, 0.225])
])

#  created a function to extract image features of input image 
def input_img_features(image_path, model):
    image = Image.open(image_path).convert("RGB")
    transformed_img = data_transform(image)
    input_img = torch.unsqueeze(transformed_img, 0)
    with torch.no_grad():
        features = model.features(input_img)
        features = torch.flatten(features)
    return features.numpy()

#   function to extract image features from images in the database to compute feature distance
def database_img_features(database_folder, model):
    image_files = glob.glob(os.path.join(database_folder, "*.png")) + glob.glob(os.path.join(database_folder, "*.jpeg"))
    database_features = {}
    for img_path in image_files:
        image = Image.open(img_path).convert("RGB")
        transformed_img = data_transform(image) 
        input_img = torch.unsqueeze(transformed_img, 0)
        with torch.no_grad():
            features = model.features(input_img)
            features = torch.flatten(features).numpy()
        database_features[img_path] = features
    return database_features

database_folder = "./database"
input_image_path = testing_img_input()

input_features = input_img_features(input_image_path, alexnet)
database_features = database_img_features(database_folder, alexnet)

distances = []
for img_path, features in database_features.items():
    l2_distance = np.linalg.norm(input_features - features)
    distances.append((img_path, l2_distance))
distances.sort(key=lambda x: x[1])

K = k_value_input()
top_K_images = distances[:K]

plt.figure(figsize=(12, 6))
plt.subplot(1, K + 1, 1)
plt.imshow(Image.open(input_image_path))
plt.title("Input Image")
plt.axis('off')
plt.show()

#  output of top 5 retrieved images using matplotlib
print("OUTPUT: ")
print("\nTop -",K ,"Retrieved results using", f"{input_image_path}", "for image retrieval:")
for i, (img_path, distance) in enumerate(top_K_images):
    filename = os.path.basename(img_path)
    print(f"{i+1}. {filename} (Feature distance from input image: {distance:.4f})")
    plt.subplot(1, K + 1, i + 2)
    plt.imshow(Image.open(img_path))
    plt.title(filename)
    plt.axis('off')

plt.tight_layout()
plt.show()
